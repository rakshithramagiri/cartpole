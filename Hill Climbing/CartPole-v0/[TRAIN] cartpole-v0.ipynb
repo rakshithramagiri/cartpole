{
 "cells": [
  {
   "cell_type": "code",
   "execution_count": 1,
   "metadata": {},
   "outputs": [],
   "source": [
    "import gym\n",
    "import numpy as np\n",
    "import matplotlib.pyplot as plt\n",
    "from collections import deque\n",
    "import time\n",
    "import json\n",
    "\n",
    "%matplotlib inline\n",
    "from IPython import display\n",
    "\n",
    "from hill_climbing_agent import HC_AGENT"
   ]
  },
  {
   "cell_type": "code",
   "execution_count": 2,
   "metadata": {},
   "outputs": [
    {
     "name": "stdout",
     "output_type": "stream",
     "text": [
      "State Space :  Box(4,)\n",
      "Action Space :  Discrete(2)\n"
     ]
    }
   ],
   "source": [
    "env = gym.make(\"CartPole-v0\")\n",
    "env.seed(42)\n",
    "print(\"State Space : \", env.observation_space)\n",
    "print(\"Action Space : \", env.action_space)"
   ]
  },
  {
   "cell_type": "code",
   "execution_count": 3,
   "metadata": {},
   "outputs": [],
   "source": [
    "def plot_scores(scores, rolling_mean, save_fig=False, filename=None):\n",
    "    plt.plot(scores, label=\"Scores\")\n",
    "    plt.plot(rolling_mean, label=\"Rolling Mean\")\n",
    "    plt.xlabel(\"Episode\")\n",
    "    plt.ylabel(\"Score\")\n",
    "    plt.legend()\n",
    "    if save_fig:\n",
    "        plt.savefig(filename+'.png')\n",
    "    plt.show()"
   ]
  },
  {
   "cell_type": "code",
   "execution_count": 4,
   "metadata": {},
   "outputs": [],
   "source": [
    "def save_model(agent, checkpoint_name):\n",
    "    np.save(checkpoint_name, agent.policy.weights)"
   ]
  },
  {
   "cell_type": "code",
   "execution_count": 5,
   "metadata": {},
   "outputs": [],
   "source": [
    "env_state_size = env.observation_space.shape[0]\n",
    "env_action_size = env.action_space.n"
   ]
  },
  {
   "cell_type": "code",
   "execution_count": 6,
   "metadata": {},
   "outputs": [
    {
     "name": "stdout",
     "output_type": "stream",
     "text": [
      "Environment Solved in 116 episodes !!\n"
     ]
    },
    {
     "data": {
      "image/png": "[encoded data removed]",
      "text/plain": [
       "<Figure size 432x288 with 1 Axes>"
      ]
     },
     "metadata": {
      "needs_background": "light"
     },
     "output_type": "display_data"
    }
   ],
   "source": [
    "agent = HC_AGENT(env_state_size, env_action_size, 42)\n",
    "\n",
    "score = 0\n",
    "scores = list()\n",
    "rolling_mean = list()\n",
    "scores_window = deque(maxlen=100)\n",
    "solved = deque(maxlen=100)\n",
    "\n",
    "start = time.time()\n",
    "\n",
    "\n",
    "for i in range(1, 2000+1):\n",
    "    state = env.reset()\n",
    "    score = 0\n",
    "    \n",
    "    while True:\n",
    "        action = agent.act(state)\n",
    "        state, reward, done, _ = env.step(action)\n",
    "        agent.step(reward)\n",
    "        score += reward\n",
    "    \n",
    "        if done:\n",
    "            scores.append(score)\n",
    "            scores_window.append(score)\n",
    "            rolling_mean.append(np.mean(scores_window))\n",
    "            solved.append(score > 195.0)\n",
    "            break\n",
    "    \n",
    "    agent.learn()\n",
    "    \n",
    "    if i % 10 == 0:\n",
    "        display.clear_output(wait=True)\n",
    "        print(\"E-{} --> Score : {:.2f}\\tRolling Mean : {:.2f}\\tMax Score : {:.2f}\\tTime : {:.1f} secs\".format(\n",
    "        i, score, rolling_mean[-1], np.max(scores), time.time() - start))\n",
    "        plot_scores(scores, rolling_mean)\n",
    "        start = time.time()\n",
    "        \n",
    "    if all(solved):\n",
    "        display.clear_output(wait=True)\n",
    "        print(f\"Environment Solved in {i} episodes !!\")\n",
    "        plot_scores(scores, rolling_mean, save_fig=True, filename=f\"assets/{i}_policy_plot\")\n",
    "        save_model(agent, f\"saved_policies/{i}_policy\")\n",
    "        break\n",
    "    "
   ]
  }
 ],
 "metadata": {
  "kernelspec": {
   "display_name": "Python 3",
   "language": "python",
   "name": "python3"
  },
  "language_info": {
   "codemirror_mode": {
    "name": "ipython",
    "version": 3
   },
   "file_extension": ".py",
   "mimetype": "text/x-python",
   "name": "python",
   "nbconvert_exporter": "python",
   "pygments_lexer": "ipython3",
   "version": "3.6.8"
  }
 },
 "nbformat": 4,
 "nbformat_minor": 2
}
