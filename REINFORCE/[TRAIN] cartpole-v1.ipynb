{
 "cells": [
  {
   "cell_type": "code",
   "execution_count": 1,
   "metadata": {},
   "outputs": [],
   "source": [
    "import gym\n",
    "import numpy as np\n",
    "import torch\n",
    "import matplotlib.pyplot as plt\n",
    "from collections import deque\n",
    "from IPython import display\n",
    "\n",
    "from reinforce_agent import REINFORCE_AGENT\n",
    "\n",
    "%matplotlib inline"
   ]
  },
  {
   "cell_type": "code",
   "execution_count": 2,
   "metadata": {},
   "outputs": [
    {
     "name": "stdout",
     "output_type": "stream",
     "text": [
      "State Space  : Box(4,)\n",
      "Action Space : Discrete(2)\n"
     ]
    }
   ],
   "source": [
    "env = gym.make(\"CartPole-v1\")\n",
    "print(f\"State Space  : {env.observation_space}\")\n",
    "print(f\"Action Space : {env.action_space}\")"
   ]
  },
  {
   "cell_type": "code",
   "execution_count": 3,
   "metadata": {},
   "outputs": [],
   "source": [
    "state_space = env.observation_space.shape[0]\n",
    "action_space = env.action_space.n\n",
    "\n",
    "reinforce_agent = REINFORCE_AGENT(state_space, action_space, 42)\n",
    "optimizer = torch.optim.Adam(reinforce_agent.policy.parameters(), lr=0.005)"
   ]
  },
  {
   "cell_type": "code",
   "execution_count": 4,
   "metadata": {},
   "outputs": [
    {
     "name": "stdout",
     "output_type": "stream",
     "text": [
      "Episode 100\tAverage Score: 27.63\n",
      "Episode 200\tAverage Score: 44.14\n",
      "Episode 300\tAverage Score: 66.32\n",
      "Episode 400\tAverage Score: 89.54\n",
      "Episode 500\tAverage Score: 100.55\n",
      "Episode 600\tAverage Score: 87.38\n",
      "Episode 700\tAverage Score: 128.33\n",
      "Episode 800\tAverage Score: 134.14\n",
      "Environment solved in 761 episodes!\tAverage Score: 195.94\n"
     ]
    }
   ],
   "source": [
    "GAMMA = 1\n",
    "num_episodes = 2000\n",
    "scores_window = deque(maxlen=100)\n",
    "scores = list()\n",
    "\n",
    "\n",
    "for e in range(1, num_episodes+1):\n",
    "    saved_probs = list()\n",
    "    rewards = list()\n",
    "    policy_loss = list()\n",
    "    \n",
    "    state = env.reset()\n",
    "    \n",
    "    while True:\n",
    "        action, action_log_probs = reinforce_agent.act(state)\n",
    "        saved_probs.append(action_log_probs)\n",
    "        state, reward, done, _ = env.step(action)\n",
    "        rewards.append(reward)\n",
    "        \n",
    "        if done:\n",
    "            scores.append(sum(rewards))\n",
    "            scores_window.append(scores[-1])\n",
    "            break\n",
    "\n",
    "    discounts = [GAMMA**i for i in range(len(rewards) + 1)]\n",
    "    final_reward = sum([discounted*reward for discounted, reward in zip(discounts, rewards)])\n",
    "\n",
    "    policy_loss.extend([-log_prob*final_reward for log_prob in saved_probs])\n",
    "    policy_loss = torch.cat(policy_loss).sum()\n",
    "\n",
    "    optimizer.zero_grad()\n",
    "    policy_loss.backward()\n",
    "    optimizer.step()\n",
    "        \n",
    "        \n",
    "    if e % 100 == 0:\n",
    "        print('Episode {}\\tAverage Score: {:.2f}'.format(e, np.mean(scores_window)))\n",
    "    if np.mean(scores_window)>=195.0:\n",
    "        print('Environment solved in {:d} episodes!\\tAverage Score: {:.2f}'.format(e-100, np.mean(scores_window)))\n",
    "        break"
   ]
  },
  {
   "cell_type": "code",
   "execution_count": null,
   "metadata": {},
   "outputs": [],
   "source": []
  }
 ],
 "metadata": {
  "kernelspec": {
   "display_name": "Python 3",
   "language": "python",
   "name": "python3"
  },
  "language_info": {
   "codemirror_mode": {
    "name": "ipython",
    "version": 3
   },
   "file_extension": ".py",
   "mimetype": "text/x-python",
   "name": "python",
   "nbconvert_exporter": "python",
   "pygments_lexer": "ipython3",
   "version": "3.6.8"
  }
 },
 "nbformat": 4,
 "nbformat_minor": 2
}
