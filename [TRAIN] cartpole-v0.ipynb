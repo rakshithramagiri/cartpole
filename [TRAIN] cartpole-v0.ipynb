{
 "cells": [
  {
   "cell_type": "code",
   "execution_count": 1,
   "metadata": {},
   "outputs": [],
   "source": [
    "import time\n",
    "import gym\n",
    "import numpy as np\n",
    "import matplotlib.pyplot as plt\n",
    "from collections import deque\n",
    "\n",
    "%matplotlib inline\n",
    "from IPython import display\n",
    "\n",
    "from dqn_agent import DQN_AGENT"
   ]
  },
  {
   "cell_type": "code",
   "execution_count": 2,
   "metadata": {},
   "outputs": [
    {
     "name": "stdout",
     "output_type": "stream",
     "text": [
      "State Space  :  Box(4,)\n",
      "Action Space :  Discrete(2)\n"
     ]
    }
   ],
   "source": [
    "env = gym.make(\"CartPole-v0\")\n",
    "env.seed(42)\n",
    "print(\"State Space  : \", env.observation_space)\n",
    "print(\"Action Space : \", env.action_space)"
   ]
  },
  {
   "cell_type": "code",
   "execution_count": 3,
   "metadata": {},
   "outputs": [],
   "source": [
    "env_state_size = env.observation_space.shape[0]\n",
    "env_action_size = env.action_space.n"
   ]
  },
  {
   "cell_type": "code",
   "execution_count": 4,
   "metadata": {},
   "outputs": [],
   "source": [
    "def plot_scores(scores, rolling_mean):\n",
    "    plt.plot(scores, label=\"Scores\")\n",
    "    plt.plot(rolling_mean, label=\"Rolling Mean\")\n",
    "    plt.xlabel('Episode')\n",
    "    plt.ylabel('Score')\n",
    "    plt.legend()\n",
    "    plt.show()"
   ]
  },
  {
   "cell_type": "code",
   "execution_count": 5,
   "metadata": {},
   "outputs": [],
   "source": [
    "def replay_memory_initialize(env, agent, eps, size):\n",
    "    exp_count = 0\n",
    "    start = time.time()\n",
    "    state = env.reset()\n",
    "    \n",
    "    print(f\"Initializing Replay Buffer with {size} experiences ...\")\n",
    "    \n",
    "    while exp_count < size:\n",
    "        action = agent.act(state, eps)\n",
    "        next_state, reward, done, _ = env.step(action)\n",
    "        agent.step(state, action, next_state, reward, done)\n",
    "        state = next_state\n",
    "        exp_count += 1\n",
    "        \n",
    "        if done:\n",
    "            state = env.reset()\n",
    "            \n",
    "    print(\"Finished Initializing Replay Buffer with {} experiences ... in time {:.1f} secs\".format(size, time.time() - start))"
   ]
  },
  {
   "cell_type": "code",
   "execution_count": 6,
   "metadata": {},
   "outputs": [
    {
     "name": "stdout",
     "output_type": "stream",
     "text": [
      "E-160---> Score : 200.00\tRolling Mean : 199.91\tMax Score : 200.00\tTime : 5.0 secs\teps : 0.01\n"
     ]
    },
    {
     "data": {
      "image/png": "[encoded data removed]",
      "text/plain": [
       "<Figure size 432x288 with 1 Axes>"
      ]
     },
     "metadata": {
      "needs_background": "light"
     },
     "output_type": "display_data"
    },
    {
     "name": "stdout",
     "output_type": "stream",
     "text": [
      "Environment Solved in 168 episodes !!\n"
     ]
    }
   ],
   "source": [
    "agent = DQN_AGENT(env_state_size, env_action_size, 42)\n",
    "\n",
    "eps_start = 1.0\n",
    "eps_fixed = 0.01\n",
    "eps_decay = 0.95\n",
    "eps = eps_start\n",
    "\n",
    "score = 0\n",
    "scores = list()\n",
    "rolling_mean = list()\n",
    "scores_window = deque(maxlen=100)\n",
    "solved = deque(maxlen=100)\n",
    "\n",
    "replay_memory_initialize(env, agent, eps, size=15000)\n",
    "\n",
    "start = time.time()\n",
    "\n",
    "for i in range(1, 2000+1):\n",
    "    state = env.reset()\n",
    "    \n",
    "    while True:\n",
    "        action = agent.act(state, eps)\n",
    "        next_state, reward, done, _ = env.step(action)\n",
    "        agent.step(state, action, next_state, reward, done)\n",
    "        state = next_state\n",
    "        score += reward\n",
    "        \n",
    "        if done:\n",
    "            scores.append(score)\n",
    "            scores_window.append(score)\n",
    "            solved.append(score > 195.0)\n",
    "            rolling_mean.append(np.mean(scores_window))\n",
    "            break\n",
    "            \n",
    "            \n",
    "    if i % 10 == 0:\n",
    "        display.clear_output(wait=True)\n",
    "        print(\"E-{}---> Score : {:.2f}\\tRolling Mean : {:.2f}\\tMax Score : {:.2f}\\tTime : {:.1f} secs\\teps : {:.2f}\".format(\n",
    "        i, score, rolling_mean[-1], np.max(scores), time.time() - start, eps))\n",
    "        plot_scores(scores, rolling_mean)\n",
    "        start = time.time()\n",
    "        \n",
    "        \n",
    "    if all(solved):\n",
    "        print(f\"Environment Solved in {i} episodes !!\")\n",
    "        break\n",
    "        \n",
    "        \n",
    "    score = 0\n",
    "    eps = max(eps_fixed, eps*eps_decay)\n",
    "        "
   ]
  }
 ],
 "metadata": {
  "kernelspec": {
   "display_name": "Python 3",
   "language": "python",
   "name": "python3"
  },
  "language_info": {
   "codemirror_mode": {
    "name": "ipython",
    "version": 3
   },
   "file_extension": ".py",
   "mimetype": "text/x-python",
   "name": "python",
   "nbconvert_exporter": "python",
   "pygments_lexer": "ipython3",
   "version": "3.6.8"
  }
 },
 "nbformat": 4,
 "nbformat_minor": 2
}
